{
 "cells": [
  {
   "cell_type": "markdown",
   "metadata": {},
   "source": [
    "# Welome to the HackZurich Credit Suisse Challenge!\n",
    "\n",
    "First before you begin you will have to gain access to the IS&P research data and the Dow Jones news feed. \n",
    "To get to the data you will need to do the following: \n",
    "    \n",
    "1.  Clone the github repo (which you've probably already done) located here. \n",
    "2.  Locate the cert file within the repo and make note of it (you will insert the file path below).\n",
    "3.  Get the ElasticSearch password from one of the Credit Suisse organizers.\n",
    "4.  Make sure you have PIP installed the latest SSL and ElasticSearch Libraries.\n",
    "5.  Next in the code below you will have to point the context variable to the cert you just downloaded from this git     repo and enter the password we will give you in the http_auth argument.  \n",
    "6.  Run the code and you are off to the races!  \n",
    "\n",
    "##  So whats in the data? and where and how are you processing it?\n",
    "We are using ElasticSearch 7.1 hosted within a Kubernetes cluster on the Google Cloud running within Zurich.  \n",
    "If you are unfamiliar with ElasticSearch you can read more about it here:  https://www.elastic.co, \n",
    "be sure to read about the 7.1 version docs.\n",
    "                           \n",
    "## There are two indexes within the ES cluster you will be connecting to:\n",
    "1.  isp: This is the internal Credit Suisse research.  There are 10,000 documents in this index.  The data model is \n",
    "    pretty straight forward once you begin hitting the cluster and digging in.\n",
    "2.  dj:  This is the DowJones machine readable news feed.  The data model is much more robust than IS&P's so below you find an example.\n",
    "\n",
    "## GOOD LUCK!"
   ]
  },
  {
   "cell_type": "code",
   "execution_count": 15,
   "metadata": {},
   "outputs": [],
   "source": [
    "import requests, json, os\n",
    "from elasticsearch import Elasticsearch\n",
    "from ssl import create_default_context\n",
    "\n",
    "context = create_default_context(cafile=\"PATH TO CERT/client.cer\")\n",
    "es = Elasticsearch(['https://data.schnitzel.tech:9200'], http_auth=('hack_zurich', 'password'), ssl_context=context)\n"
   ]
  },
  {
   "cell_type": "code",
   "execution_count": 16,
   "metadata": {},
   "outputs": [
    {
     "data": {
      "text/plain": [
       "{'name': 'hack-zurich-es-cluster-es-x4k8jlxqkp',\n",
       " 'cluster_name': 'hack-zurich-es-cluster',\n",
       " 'cluster_uuid': 'HQ9h7ToKTQuFf8D8Sxf69w',\n",
       " 'version': {'number': '7.1.0',\n",
       "  'build_flavor': 'default',\n",
       "  'build_type': 'docker',\n",
       "  'build_hash': '606a173',\n",
       "  'build_date': '2019-05-16T00:43:15.323135Z',\n",
       "  'build_snapshot': False,\n",
       "  'lucene_version': '8.0.0',\n",
       "  'minimum_wire_compatibility_version': '6.8.0',\n",
       "  'minimum_index_compatibility_version': '6.0.0-beta1'},\n",
       " 'tagline': 'You Know, for Search'}"
      ]
     },
     "execution_count": 16,
     "metadata": {},
     "output_type": "execute_result"
    }
   ],
   "source": [
    "es.info()"
   ]
  },
  {
   "cell_type": "markdown",
   "metadata": {},
   "source": [
    "### Querying the cluster.\n",
    "Now you are connected to the ES Cluster and we can begin to query the results.  See below for a sample query and formatting the results."
   ]
  },
  {
   "cell_type": "code",
   "execution_count": 17,
   "metadata": {},
   "outputs": [],
   "source": [
    "res = es.search(index=\"isp\", body={\"query\": {\"match_all\": {}}})"
   ]
  },
  {
   "cell_type": "code",
   "execution_count": 18,
   "metadata": {},
   "outputs": [
    {
     "name": "stdout",
     "output_type": "stream",
     "text": [
      "Got 10000 Hits:\n",
      "2019-02-22T04:16:00.317Z  Waertsilae Corporation\n",
      "2018-12-04T22:50:29.978Z  Hess Corp\n",
      "2019-02-08T04:14:07.081Z  Investment case◾ With around one-third of earnings from each of Corporate & Investment Banking (CIB) and French retail, SocGen is more exposed to these areas than French peers. With International retail also delivering low returns, SocGen has the lowest 2018E group Return on Tangible Equity (ROTE) forecast at around 8%.\n",
      "◾ A 50% payout gives SocGen a good dividend yield which is supportive, but its ability to absorb regulatory Risk Weighted Asset (RWA) inflation is lower than the mutually owned French banks, and there is some residual tail risk from litigation.\n",
      "◾ Risks include performance of international operations (particularly Russia), greater exposure to French retail, and regulatory RWA inflation (where coverage at SocGen is lower than mutually owned peers).\n",
      "\n",
      "2019-05-03T14:55:23.467Z  ◾ translated text: Der procure.ch Purchasing Managers’ Index (PMI)\n",
      "◾ translated text: Switzerland Switzerland\n",
      "\n",
      "2019-02-14T11:11:08.669Z  Kinross Gold Corp\n",
      "2019-01-11T09:06:48.355Z  Masco Corp\n",
      "2019-02-21T13:35:20.696Z  Xiaomi Corporation\n",
      "2019-01-22T01:08:32.036Z  Credit: IHO Verwaltung benefits from excess cash\n",
      "2019-05-06T18:11:43Z  ◾ We expect FROTO to deliver strong EBITDA growth going forward thanks to its strong product lay-out that has been consistently increasing market share in the EU. The company pays double-dividends each year, which provides a major cushion for the share price against domestic market-related risks.\n",
      "◾ FROTO has a highly R&D-focused management and the first material benefit of R&D initiatives has recently kicked off through the royalty income fees from a Chinese truck manufacturer using FROTO’s truck design. R&D initiatives are also incentivised by the Turkish government through tax breaks.\n",
      "◾ Risks: FROTO is highly exposed to the commercial vehicle segment in its key markets (Turkey, the UK and Germany). The Turkish government has a frequent track record of changing excise taxes in automotives.\n",
      "\n",
      "2019-02-18T07:16:04.322Z  Key Ideas\n"
     ]
    }
   ],
   "source": [
    "print(\"Got %d Hits:\" % res['hits']['total']['value'])\n",
    "for hit in res['hits']['hits']:\n",
    "    print(\"%(tm)s  %(body)s\" % hit[\"_source\"])"
   ]
  },
  {
   "cell_type": "code",
   "execution_count": 3,
   "metadata": {},
   "outputs": [],
   "source": [
    "# Example DJ Data model:\n",
    "import json\n",
    "obj = json.loads(\"\"\"{\n",
    "  \"_id\": \"ID\",\n",
    "  \"_index\": \"INDEX NAMEr\",\n",
    "  \"_score\": 0,\n",
    "  \"_source\": {\n",
    "    \"action\": \"add\",\n",
    "    \"an\": \"ARTICLE ID\",\n",
    "    \"art\": \"\",\n",
    "    \"body\": \"MAIN TEXT\",\n",
    "    \"byline\": \"\",\n",
    "    \"company_codes\": \"COMMA SEPERATED LIST\",\n",
    "    \"company_codes_about\": \"COMMA SEPERATED LIST\",\n",
    "    \"company_codes_association\": \"\",\n",
    "    \"company_codes_lineage\": \"\",\n",
    "    \"company_codes_occur\": \",ulvr,amesec,\",\n",
    "    \"company_codes_relevance\": \"COMMA SEPERATED LIST\",\n",
    "    \"copyright\": \"CW\",\n",
    "    \"credit\": \"\",\n",
    "    \"currency_codes\": \"\",\n",
    "    \"document_type\": \"article\",\n",
    "    \"industry_codes\": \"COMMA SEPERATED LIST\",\n",
    "    \"ingestion_datetime\": \"INT\",\n",
    "    \"language_code\": \"LANGUAGE CODE\",\n",
    "    \"market_index_codes\": \"\",\n",
    "    \"modification_date\": \"INT\",\n",
    "    \"modification_datetime\": \"INT\",\n",
    "    \"person_codes\": \"\",\n",
    "    \"publication_date\": \"INT\",\n",
    "    \"publication_datetime\": \"INT\",\n",
    "    \"publisher_name\": \"Business Wire, Inc.\",\n",
    "    \"region_codes\": \"COMMA SEPERATED LIST\",\n",
    "    \"region_of_origin\": \"NAMZ USA\",\n",
    "    \"snippet\": \"SAMPLE SNIPPET\",\n",
    "    \"source_code\": \"BWR\",\n",
    "    \"source_name\": \"Business Wire\",\n",
    "    \"subject_codes\": \"COMMA SEPERATED LIST\",\n",
    "    \"title\": \"TITLE\",\n",
    "    \"word_count\": \"INT\"\n",
    "  },\n",
    "  \"_type\": \"_doc\",\n",
    "  \"_version\": 1,\n",
    "  \"fields\": {\n",
    "    \"modification_datetime\": [\n",
    "      \"2014-01-02T19:02:26.000Z\"\n",
    "    ],\n",
    "    \"publication_datetime\": [\n",
    "      \"2014-01-02T19:02:00.000Z\"\n",
    "    ]\n",
    "  }\n",
    "}\"\"\")\n"
   ]
  },
  {
   "cell_type": "code",
   "execution_count": null,
   "metadata": {},
   "outputs": [],
   "source": []
  }
 ],
 "metadata": {
  "kernelspec": {
   "display_name": "Python 3",
   "language": "python",
   "name": "python3"
  },
  "language_info": {
   "codemirror_mode": {
    "name": "ipython",
    "version": 3
   },
   "file_extension": ".py",
   "mimetype": "text/x-python",
   "name": "python",
   "nbconvert_exporter": "python",
   "pygments_lexer": "ipython3",
   "version": "3.7.3"
  }
 },
 "nbformat": 4,
 "nbformat_minor": 2
}
