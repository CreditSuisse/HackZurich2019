{
 "cells": [
  {
   "cell_type": "markdown",
   "metadata": {},
   "source": [
    "# Welome to the HackZurich Credit Suisse Challenge!\n",
    "\n",
    "First before you begin you will have to gain access to the IS&P research data. \n",
    "To get to the data you will need to do the following: \n",
    "    \n",
    "1.  Clone the github repo (which you've probably already done) located here. \n",
    "2.  Locate the cert file within the repo and make note of it (you will insert the file path below).\n",
    "3.  Get the ElasticSearch password from one of the Credit Suisse organizers.\n",
    "4.  Make sure you have PIP installed the latest SSL and ElasticSearch Libraries.\n",
    "5.  Next in the code below you will have to point the context variable to the cert you just downloaded from this git repo and enter the password we will give you in the http_auth argument.  \n",
    "6.  Run the code and you are off to the races!  \n",
    "\n",
    "##  So whats in the data? and where and how are you processing it?\n",
    "We are using ElasticSearch 7.1 hosted within a Kubernetes cluster on the Google Cloud running within Zurich.  \n",
    "If you are unfamiliar with ElasticSearch you can read more about it here:  https://www.elastic.co, \n",
    "be sure to read about the 7.1 version docs.\n",
    "                           \n",
    "## There are two indexes within the ES cluster you will be connecting to:\n",
    "1.  isp: This is the internal Credit Suisse research.  There are 10,000 documents in this index.  The data model is \n",
    "    pretty straight forward once you begin hitting the cluster and digging in.\n",
    "
    "\n",
    "## GOOD LUCK!"
   ]
  },
  {
   "cell_type": "code",
   "execution_count": 5,
   "metadata": {},
   "outputs": [],
   "source": [
    "import requests, json, os\n",
    "from elasticsearch import Elasticsearch\n",
    "from ssl import create_default_context\n",
    "\n",
    "context = create_default_context(cafile=\"Path To Cert/client.cer\")\n",
    "es = Elasticsearch(['https://data.schnitzel.tech:9200'], http_auth=('hack_zurich', 'password'), ssl_context=context)\n"
   ]
  },
  {
   "cell_type": "code",
   "execution_count": 6,
   "metadata": {},
   "outputs": [
    {
     "data": {
      "text/plain": [
       "{'name': 'hack-zurich-es-cluster-es-ks8c7zhzs8',\n",
       " 'cluster_name': 'hack-zurich-es-cluster',\n",
       " 'cluster_uuid': 'VvoeM0ohQCe0F2YxlEc5Cw',\n",
       " 'version': {'number': '7.1.0',\n",
       "  'build_flavor': 'default',\n",
       "  'build_type': 'docker',\n",
       "  'build_hash': '606a173',\n",
       "  'build_date': '2019-05-16T00:43:15.323135Z',\n",
       "  'build_snapshot': False,\n",
       "  'lucene_version': '8.0.0',\n",
       "  'minimum_wire_compatibility_version': '6.8.0',\n",
       "  'minimum_index_compatibility_version': '6.0.0-beta1'},\n",
       " 'tagline': 'You Know, for Search'}"
      ]
     },
     "execution_count": 6,
     "metadata": {},
     "output_type": "execute_result"
    }
   ],
   "source": [
    "es.info()"
   ]
  },
  {
   "cell_type": "markdown",
   "metadata": {},
   "source": [
    "### Querying the cluster.\n",
    "Now you are connected to the ES Cluster and we can begin to query the results.  See below for a sample query and formatting the results."
   ]
  },
  {
   "cell_type": "code",
   "execution_count": 7,
   "metadata": {},
   "outputs": [],
   "source": [
    "res = es.search(index=\"isp\", body={\"query\": {\"match_all\": {}}})"
   ]
  },
  {
   "cell_type": "code",
   "execution_count": 10,
   "metadata": {},
   "outputs": [
    {
     "name": "stdout",
     "output_type": "stream",
     "text": [
      "Got 10000 Hits:\n",
      "2018-11-23T13:15:42.488Z  ◾ L’elenco di azioni a elevato potenziale comprende 15 azioni ad alta convinzione selezionate che fanno parte delle nostre prime scelte regionali. L’elenco si basa su un buon equilibrio tra azioni svizzere, europee e nordamericane.\n",
      "◾ Questa settimana non abbiamo apportato modifiche all’elenco.\n",
      "\n",
      "2019-04-23T22:26:41.04Z  ◾ We believe shares of Navient will appreciate significantly as strong cash flow is likely to drive a solid share repurchase. Additionally, there are some fee business opportunities within Navient’s existing core competencies that could drive EPS accretion.\n",
      "◾ Additionally, NAVI’s stock has benefited from Moody’s resolving FFELP (Federal Family Education Loan Program) ratings issues. We believe investors no longer see this resolution as lifting the multiple.\n",
      "◾ Risks for Navient include potential issues if the Administration or Congress allowed a broad-based loan refinance plan, as well as the risk related to significantly more onerous servicing requirements from the Consumer Financial Protection Bureau. Another risk is posed by rapidly rising interest rates.\n",
      "\n",
      "2019-01-30T07:43:39.529Z  ◾ AMD reports weak Q4 2018 results and Q1 2019 guidance\n",
      "◾ Apple reported in-line Q1 2019 results and weak next quarter outlook\n",
      "◾ Changes to India Top Picks list\n",
      "◾ Illumina’s Q4 2018 revenues in-line with pre-announcement \n",
      "◾ KPN Q4 2018 results slightly better than expected\n",
      "◾ Lonza continues growth trajectory \n",
      "◾ Novartis reports a good result for Q4 2018 \n",
      "◾ LVMH Q4 2018 broadly in-line, with Fashion division exhibiting stellar performance\n",
      "◾ Fitch downgrades Pemex by two notches\n",
      "◾ Rieter reports weak order intake for FY 2018\n",
      "◾ Santander reports Q4 2018 earnings\n",
      "◾ Siemens with better order but lower than expected profitability\n",
      "◾ Syrah Resources reports solid Q4 2018 results\n",
      "◾ Vale announces action plan\n",
      "\n",
      "2019-04-24T01:18:54.261Z  ◾ We see minimal fundamental risk to TXN’s core verticals of Analog and embedded going forward – with the company continuing to post 30–40 bps in market share gains annually.\n",
      "◾ TXN’s consistent FCF generation and return in the form of dividends and buybacks leads peers, and the company’s exposure to the higher-margin Industrial and Auto end-markets has grown.\n",
      "◾ Risks: TXN has high-single digit exposure to AAPL (Apple) – thus a key risk is weakness in the Consumer and smartphone markets. TXN has one of the most broad-based and diversified businesses in all of Semis – thus the overall macro backdrop is also a risk.\n",
      "\n",
      "2019-03-07T06:10:56.342Z  ◾ New high-margin products, Abilify Maintena and Rexulti for Schizophrenia, Samsca/JINARC for autosomal dominant polycystic kidney disease (ADPKD) and Lonsurf for metastatic colorectal cancer, are contributing to profits. Earnings targets for the company’s next medium-term plan commencing in FY12/19 will likely start off from a lower base established by downward guidance revisions toward the start of FY2018—the last fiscal year of the previous medium-term plan.\n",
      "◾ While we are encouraged by the FDA’s approval of Abilify Maintena for the additional indication of bipolar disorder, unfortunately the company stopped development of its Alzheimer’s candidate LuAE58054, after that drug failed in its first Phase 3 trial. Otsuka similarly has been struggling to expand Rexulti’s indications to include agitation in individuals with Alzheimer’s. Nonetheless, the company plans to maintain a focus on its CNS franchise.\n",
      "◾ Risks include slower than expected recovery in earnings due to slow down in sales of mainstay products and NHI price revisions, discontinuation of development of drugs to treat Alzheimer’s disease and related symptoms, and impairment losses.\n",
      "\n",
      "2019-04-08T03:10:06.147Z  ◾ Business model dependent on cheap and abundant debt: A rising rate environment is relevant not only for the company’s own funding, but because the value of assets in the private market is highly dependent on leverage. A 100bps rise in yields reduces project values by c10%.\n",
      "◾ End to cost reduction in-sight: We forecast the cost of offshore wind prices falling from cEUR 63/MWh (megawatt hour) for projects commissioning in 2022 to cEUR 47–50/MWh for projects commissioning in 2024/25. But tender prices are already at these levels. With offshore wind ranking alongside gas and more expensive input costs, we see limited incentive for costs to come down further.\n",
      "◾ Risks to our investment thesis: Upside risks include a prolonged competitive advantage. Downside risks include political and media scrutiny of the offshore wind market in future.\n",
      "\n",
      "2019-04-25T08:04:57.519Z  ◾ Teladoc Health is the market leader in the fast growing Business-to-Business-to-Consumer (B2B2C) telehealth industry. Several factors in the U.S. healthcare industry create a need for an alternative healthcare solution such as telehealth: physician shortages, increasing costs, and inefficiency. Additional growth drivers include an increase in chronic conditions, an improving reimbursement environment, and mobile connectivity advancements.\n",
      "◾ Teladoc’s strong organic revenue growth has been driven by growth in membership, visits, revenue per member, and targeted acquisitions. However, with the telehealth adoption among employers and commercial MCOs already at a 75%+ level, the next leg of growth in the B2B2C market is likely to be driven by cross-selling to the existing customer base and the increase in utilization rate.\n",
      "◾ Risks: We see the CMS’ acceptance of telehealth services, such as Remote Patient Monitoring, incrementally positive for the Hub-and-Spoke provider-driven telehealth market. TDOC’s competitive positioning in this market is sub-optimal. Additionally, our belief is that the Government market will be relatively harder for B2B2C telehealth companies to penetrate into.\n",
      "\n",
      "2019-03-14T10:17:23.689Z  ◾ We remain defensive and continue to prefer energy, healthcare and IT over industrials, utilities and communication services. We also continue to favor EM over Eurozone equities. \n",
      "◾ With IP momentum expected to rebound and central banks having turned more dovish, a potential return of volatility could soon offer an entry opportunity for equities. For now, we continue to prefer option structures to reduce selected equity beta and monetize the current low volatility. \n",
      "\n",
      "2019-01-24T04:52:43.183Z  Lam Research Corp\n",
      "2019-04-30T03:07:50.046Z  ◾ Assuming no interest rate increases, BKIA’s return on tangible book levels stand at 5–6%, below peers at 8–12%. Due to the weight of mortgages on the lending book (66% of total), the bank is in a weaker position to grow net interest income in the current environment.\n",
      "◾ The capital position is strong (270bps above requirement) and we see the bank generating c. 30bps of capital p.a. The bank is awaiting approval for its mortgage IRB models and we calculate this could reduce risk-weighted assets by c.EUR 6bn and generate an incremental c.EUR 0.8bn of capital. We continue to believe the distribution of special dividends/buybacks will happen towards the end of the plan (2020E) but are now less concerned on the bank’s ability to deliver on the commitment.\n",
      "◾ Risks: Upside risks relate to (i) unexpected changes in the rate policies, (ii) a softening of the MREL requirements, (iii) improvements in the credit market conditions and (iv) earlier approval of mortgage IRB models. Downside risks relate to (i) a marked deceleration in the economic outlook of Spain, (ii) further deterioration of the credit conditions and (iii) unexpected hits to capital.\n",
      "\n"
     ]
    }
   ],
   "source": [
    "print(\"Got %d Hits:\" % res['hits']['total']['value'])\n",
    "for hit in res['hits']['hits']:\n",
    "    print(\"%(tm)s  %(body)s\" % hit[\"_source\"])"
   ]
  },
  {
   "cell_type": "code",
   "execution_count": null,
   "metadata": {},
   "outputs": [],
   "source": []
  }
 ],
 "metadata": {
  "kernelspec": {
   "display_name": "Python 3",
   "language": "python",
   "name": "python3"
  },
  "language_info": {
   "codemirror_mode": {
    "name": "ipython",
    "version": 3
   },
   "file_extension": ".py",
   "mimetype": "text/x-python",
   "name": "python",
   "nbconvert_exporter": "python",
   "pygments_lexer": "ipython3",
   "version": "3.7.3"
  }
 },
 "nbformat": 4,
 "nbformat_minor": 2
}
